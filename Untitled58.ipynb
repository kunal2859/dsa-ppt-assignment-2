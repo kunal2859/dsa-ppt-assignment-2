{
 "cells": [
  {
   "cell_type": "code",
   "execution_count": 1,
   "id": "145b9835",
   "metadata": {},
   "outputs": [
    {
     "name": "stdout",
     "output_type": "stream",
     "text": [
      "4\n"
     ]
    }
   ],
   "source": [
    "nums=[1,4,3,2]\n",
    "nums.sort()\n",
    "s=0\n",
    "for i in range(0,len(nums),2):\n",
    "    s+=min(nums[i],nums[i+1])\n",
    "print(s)"
   ]
  },
  {
   "cell_type": "code",
   "execution_count": 5,
   "id": "9b5ff362",
   "metadata": {},
   "outputs": [
    {
     "name": "stdout",
     "output_type": "stream",
     "text": [
      "1\n"
     ]
    }
   ],
   "source": [
    "candyType=[1,11]\n",
    "print (min(len(candyType)//2, len(set(candyType))))"
   ]
  },
  {
   "cell_type": "code",
   "execution_count": 19,
   "id": "b8cf3695",
   "metadata": {},
   "outputs": [
    {
     "name": "stdout",
     "output_type": "stream",
     "text": [
      "5\n"
     ]
    }
   ],
   "source": [
    "from collections import Counter\n",
    "nums=[1,3,2,2,5,2,3,7]\n",
    "count = 0\n",
    "counter = Counter(nums)\n",
    "for num in counter:\n",
    "    if num + 1 in counter:\n",
    "        count= max(count, counter[num] + counter[num + 1])\n",
    "print (count)"
   ]
  },
  {
   "cell_type": "code",
   "execution_count": 33,
   "id": "62fb38d7",
   "metadata": {},
   "outputs": [
    {
     "name": "stdout",
     "output_type": "stream",
     "text": [
      "True\n"
     ]
    }
   ],
   "source": [
    "flowerbed = [1,0,0,0,1]\n",
    "n=1\n",
    "if n==0:\n",
    "    print(True)\n",
    "count=0\n",
    "for i in range(len(flowerbed)):\n",
    "    if flowerbed[i]==0:\n",
    "        if i==0 or flowerbed[i-1]==0:\n",
    "            if i==len(flowerbed)-1 or flowerbed[i+1]==0:\n",
    "                count+=1\n",
    "                flowerbed[i]=1\n",
    "print(True)"
   ]
  },
  {
   "cell_type": "code",
   "execution_count": 35,
   "id": "7f02cf98",
   "metadata": {},
   "outputs": [
    {
     "name": "stdout",
     "output_type": "stream",
     "text": [
      "39200\n"
     ]
    }
   ],
   "source": [
    "import heapq\n",
    "nums=[-100,-98,1,2,3,4]\n",
    "pos=heapq.nlargest(3,nums)\n",
    "neg=heapq.nsmallest(2,nums)\n",
    "print(max(neg[0]*neg[1]*pos[0],pos[0]*pos[1]*pos[2]))"
   ]
  },
  {
   "cell_type": "code",
   "execution_count": 36,
   "id": "cc815d8d",
   "metadata": {},
   "outputs": [
    {
     "name": "stdout",
     "output_type": "stream",
     "text": [
      "4\n"
     ]
    }
   ],
   "source": [
    "def binarySearch(nums,target):\n",
    "    i=0\n",
    "    j=len(nums)-1\n",
    "    while i<=j:\n",
    "        mid=i+(j-i)//2\n",
    "        if target>nums[mid]:\n",
    "            i=mid+1\n",
    "        elif target<nums[mid]:\n",
    "            j=mid-1\n",
    "        else:\n",
    "            return mid\n",
    "    return i\n",
    "\n",
    "nums=[-1,0,3,5,9,12]\n",
    "target=9\n",
    "print(binarySearch(nums,target))"
   ]
  },
  {
   "cell_type": "code",
   "execution_count": 41,
   "id": "3fe7bfa7",
   "metadata": {},
   "outputs": [
    {
     "name": "stdout",
     "output_type": "stream",
     "text": [
      "False\n"
     ]
    }
   ],
   "source": [
    "nums=[1,3,2,4]\n",
    "nums1=sorted(nums)\n",
    "nums2=sorted(nums,reverse=True)\n",
    "if nums==nums1 or nums==nums2:\n",
    "    print(True)\n",
    "else:\n",
    "    print(False)"
   ]
  },
  {
   "cell_type": "code",
   "execution_count": 42,
   "id": "0b0fed76",
   "metadata": {},
   "outputs": [
    {
     "name": "stdout",
     "output_type": "stream",
     "text": [
      "1\n"
     ]
    }
   ],
   "source": [
    "nums=[3,10]\n",
    "k=3\n",
    "x=max(nums)\n",
    "y=min(nums)\n",
    "print(max(0,(x-k)-(y+k)))"
   ]
  }
 ],
 "metadata": {
  "kernelspec": {
   "display_name": "Python 3 (ipykernel)",
   "language": "python",
   "name": "python3"
  },
  "language_info": {
   "codemirror_mode": {
    "name": "ipython",
    "version": 3
   },
   "file_extension": ".py",
   "mimetype": "text/x-python",
   "name": "python",
   "nbconvert_exporter": "python",
   "pygments_lexer": "ipython3",
   "version": "3.9.13"
  }
 },
 "nbformat": 4,
 "nbformat_minor": 5
}
